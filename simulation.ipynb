{
 "cells": [
  {
   "cell_type": "code",
   "execution_count": 1,
   "metadata": {},
   "outputs": [
    {
     "name": "stderr",
     "output_type": "stream",
     "text": [
      "/Users/yuanwen/Desktop/Docker_Environment/intern/1/code/snp_read/Fliter.py:33: SparseEfficiencyWarning: splu converted its input to CSC format\n",
      "  splu(PM[i][\"precision\"]).solve(I_dense[:, rsid])[rsid]\n",
      "/Users/yuanwen/Desktop/Docker_Environment/intern/1/code/simulation/generate.py:29: RuntimeWarning: covariance is not symmetric positive-semidefinite.\n",
      "  sumstats_block[\"beta\"] = np.random.multivariate_normal(\n"
     ]
    },
    {
     "data": {
      "text/plain": [
       "(0.293947224855556, 0.27832714599614394, 0.14871343110277452)"
      ]
     },
     "execution_count": 1,
     "metadata": {},
     "output_type": "execute_result"
    }
   ],
   "source": [
    "import LDpred as ld\n",
    "import numpy as np\n",
    "\n",
    "pwd = \"/Users/yuanwen/Desktop/Docker_Environment/intern/1\"\n",
    "precision_folder_path = pwd + \"/data/EUR\"\n",
    "snplist_folder_path = pwd + \"/data/snplists_GRCh38positions\"\n",
    "sumstats_path = pwd + \"/data/sumstats/public-data3-sumstats.txt\"\n",
    "vcf_path = pwd + \"/data/sumstats/public-data3_vcf.vcf\"\n",
    "fam_path = pwd + \"/data/sumstats/public-data3.fam\"\n",
    "\n",
    "PM = ld.Read.PM_read(precision_folder_path)\n",
    "snplist = ld.Read.snplist_read(snplist_folder_path)\n",
    "sumstats = ld.Read.sumstats_read(sumstats_path)\n",
    "ld.Fliter.filter_by_PM(PM, snplist)\n",
    "sumstats_set = ld.Fliter.fliter_by_sumstats(PM, snplist, sumstats)\n",
    "para = {\"h2\": 0.2966, \"p\": 0.018, \"burn_in\": 50, \"num_iter\": 100, \"N\": 150000}\n",
    "sumstats_simu, beta_true = ld.generate.generate_sumstats_beta(PM, snplist, para)\n",
    "beta_grid = ld.LDpred2.ldpred2_grid(PM, sumstats_simu, para)\n",
    "beta_inf = ld.LDpred2.ldpred2_inf(PM, sumstats_simu, para)\n",
    "ld.predict.check_h2(PM, beta_true), ld.predict.check_h2(PM, beta_grid), ld.predict.check_h2(PM, beta_inf)\n",
    "\n",
    "\n",
    "\n",
    "# vcfstats = ld.Read.vcf_read(vcf_path)\n",
    "# famstats = ld.Read.fam_read(fam_path)\n",
    "# phestats = ld.Fliter.merge_vcf_fam(vcfstats, famstats)\n",
    "# phestats_total = ld.Fliter.fliter_by_vcf(beta_grid, snplist, phestats)\n",
    "\n",
    "# ld.Fliter.fliter_by_REF_ALT(snplist, phestats_total)\n",
    "# ld.predict.normalize(phestats_total)\n",
    "# ld.predict.check_r_squared(phestats_total, beta_grid_total)"
   ]
  },
  {
   "cell_type": "code",
   "execution_count": 21,
   "metadata": {},
   "outputs": [
    {
     "name": "stderr",
     "output_type": "stream",
     "text": [
      "/var/folders/8x/dw7m7l3j279g44xv2n3fsmx40000gn/T/ipykernel_54969/3637932132.py:26: RuntimeWarning: covariance is not symmetric positive-semidefinite.\n",
      "  sumstats_block[\"beta\"] = np.random.multivariate_normal(\n"
     ]
    },
    {
     "data": {
      "text/plain": [
       "(0.28155731466395395, 0.19748235869165198, 0.0494852815843795)"
      ]
     },
     "execution_count": 21,
     "metadata": {},
     "output_type": "execute_result"
    }
   ],
   "source": [
    "def generate_sumstats_beta(PM, snplist, para):\n",
    "    sumstats = []\n",
    "    beta_true = []\n",
    "    m = 0\n",
    "    for i in range(len(snplist)):\n",
    "        m += len(snplist[i][\"rsid\"])\n",
    "\n",
    "    sigma = para[\"h2\"] / (m * para[\"p\"])\n",
    "    for i in range(len(snplist)):\n",
    "        sumstats_block = {}\n",
    "        mm = len(snplist[i][\"rsid\"])\n",
    "        sumstats_block[\"N\"] = np.ones(mm) * para[\"N\"]\n",
    "        sumstats_block[\"beta_se\"] = np.ones(mm) * np.sqrt(sigma)\n",
    "        beta_true.append([])\n",
    "        if mm == 0:\n",
    "            sumstats_block[\"beta\"] = []\n",
    "            sumstats.append(sumstats_block)\n",
    "            continue\n",
    "        for j in range(mm):\n",
    "            if np.random.rand() < para[\"p\"]:\n",
    "                beta_true[i].append(np.random.normal(0, np.sqrt(sigma)))\n",
    "            else:\n",
    "                beta_true[i].append(0)\n",
    "        beta_true[i] = np.array(beta_true[i])\n",
    "        R = PM[i][\"LD\"].toarray()\n",
    "        sumstats_block[\"beta\"] = np.random.multivariate_normal(\n",
    "            R @ beta_true[i], R / para[\"N\"]\n",
    "        )\n",
    "        sumstats.append(sumstats_block)\n",
    "\n",
    "    return sumstats, beta_true\n",
    "para = {\"h2\": 0.2966, \"p\": 0.018, \"burn_in\": 50, \"num_iter\": 100, \"N\": 30000}\n",
    "sumstats_simu, beta_true = generate_sumstats_beta(PM, snplist, para)\n",
    "beta_grid = ldpred2_grid(PM, sumstats_simu, para)\n",
    "beta_inf = ldpred2_inf(PM, sumstats_simu, para)\n",
    "ld.predict.check_h2(PM, beta_true), ld.predict.check_h2(PM, beta_grid), ld.predict.check_h2(PM, beta_inf)"
   ]
  },
  {
   "cell_type": "code",
   "execution_count": 9,
   "metadata": {},
   "outputs": [
    {
     "data": {
      "text/plain": [
       "0.29916655961911187"
      ]
     },
     "execution_count": 9,
     "metadata": {},
     "output_type": "execute_result"
    }
   ],
   "source": [
    "def check_h2(PM, beta):\n",
    "    h2 = 0\n",
    "    for i in range(len(PM)):\n",
    "        h2 += np.dot(beta[i], PM[i][\"LD\"].toarray() @ beta[i])\n",
    "    return h2\n",
    "check_h2(PM, beta_true)"
   ]
  },
  {
   "cell_type": "code",
   "execution_count": 56,
   "metadata": {},
   "outputs": [
    {
     "name": "stdout",
     "output_type": "stream",
     "text": [
      "[-1.25452191e-11 -5.21323544e-11  1.40438052e-09  1.00000000e+00\n",
      "  0.00000000e+00  0.00000000e+00  0.00000000e+00  0.00000000e+00\n",
      "  0.00000000e+00  0.00000000e+00  0.00000000e+00  0.00000000e+00\n",
      "  0.00000000e+00]\n"
     ]
    }
   ],
   "source": [
    "LD = PM[0][\"LD\"]\n",
    "print(LD[:, 3].toarray().flatten())"
   ]
  },
  {
   "cell_type": "code",
   "execution_count": 19,
   "metadata": {},
   "outputs": [],
   "source": [
    "import numpy as np\n",
    "from scipy.sparse.linalg import inv, spsolve\n",
    "from scipy.sparse import csr_matrix, eye\n",
    "\n",
    "\n",
    "def get_marginal_beta(sumstats):\n",
    "    beta_marginal = []\n",
    "    for i in range(len(sumstats)):\n",
    "        beta_marginal.append(list(map(float, sumstats[i][\"beta\"])))\n",
    "    return beta_marginal\n",
    "\n",
    "\n",
    "def ldpred2_inf(PM, sumstats, para):\n",
    "    beta_inf_set = []\n",
    "    m = 0\n",
    "    for i in range(len(sumstats)):\n",
    "        m += len(sumstats[i][\"N\"])\n",
    "    for i in range(len(PM)):\n",
    "        if len(sumstats[i][\"N\"]) == 0:\n",
    "            beta_inf_set.append([])\n",
    "            continue\n",
    "        N = np.array(sumstats[i][\"N\"]).astype(float)\n",
    "        beta_se = np.array(sumstats[i][\"beta_se\"]).astype(float)\n",
    "        beta = np.array(sumstats[i][\"beta\"]).astype(float)\n",
    "        scale = np.sqrt(N * beta_se**2 + beta**2)\n",
    "        beta_hat = beta / scale\n",
    "        LD = PM[i][\"LD\"]\n",
    "        LD += eye(LD.shape[0], format=\"csr\") * (m / (para[\"h2\"] * para[\"N\"]))\n",
    "        beta_inf = spsolve(LD, beta_hat)\n",
    "        beta_inf_set.append(beta_inf * scale)\n",
    "    return beta_inf_set\n",
    "\n",
    "\n",
    "def ldpred2_gibbs_one_sampling(PM, beta_hat, N, M, para):\n",
    "    LD = PM[\"LD\"]\n",
    "    # LD = inv(PM[\"precision\"])\n",
    "    if isinstance(LD[0], np.float64):\n",
    "        LD = csr_matrix([[LD[0]]])\n",
    "    m = len(beta_hat)\n",
    "    h2 = para[\"h2\"]\n",
    "    p = para[\"p\"]\n",
    "    curr_beta = np.zeros(m)\n",
    "    avg_beta = np.zeros(m)\n",
    "    dotprods = np.zeros(m)\n",
    "    h2_per_var = h2 / (M * p)\n",
    "    inv_odd_p = (1 - p) / p\n",
    "    for k in range(-para[\"burn_in\"], para[\"num_iter\"]):\n",
    "        for j in range(m):\n",
    "            # res_beta_hat_j = beta_hat[j] - (dotprods[j] - curr_beta[j])\n",
    "            res_beta_hat_j = beta_hat[j] - dotprods[j]\n",
    "            C1 = h2_per_var * N[j]\n",
    "            C2 = 1 / (1 + 1 / C1)\n",
    "            C3 = C2 * res_beta_hat_j\n",
    "            C4 = C2 / N[j]\n",
    "            post_p_j = 1 / (1 + inv_odd_p * np.sqrt(1 + C1) * np.exp(-C3 * C3 / C4 / 2))\n",
    "            diff = -curr_beta[j]\n",
    "            # if post_p_j < p:\n",
    "            #     curr_beta[j] = 0\n",
    "            if post_p_j > np.random.rand():\n",
    "                curr_beta[j] = np.random.normal(C3, np.sqrt(C4))\n",
    "                diff += curr_beta[j]\n",
    "            else:\n",
    "                curr_beta[j] = 0\n",
    "            if k >= 0:\n",
    "                avg_beta[j] += C3 * post_p_j\n",
    "        if diff != 0:\n",
    "            dotprods += LD[:, j].toarray().flatten() * diff\n",
    "    return avg_beta / para[\"num_iter\"]\n",
    "\n",
    "\n",
    "def ldpred2_grid(PM, sumstats, para):\n",
    "    beta_gibbs_set = []\n",
    "    M = 0\n",
    "    for i in range(len(sumstats)):\n",
    "        M += len(sumstats[i][\"beta\"])\n",
    "    for i in range(len(PM)):\n",
    "        if len(sumstats[i][\"beta\"]) == 0:\n",
    "            beta_gibbs_set.append([])\n",
    "            continue\n",
    "        N = np.array(sumstats[i][\"N\"]).astype(float)\n",
    "        beta_se = np.array(sumstats[i][\"beta_se\"]).astype(float)\n",
    "        beta = np.array(sumstats[i][\"beta\"]).astype(float)\n",
    "        # scale = np.sqrt(N * beta_se**2 + beta**2)\n",
    "        scale = 1\n",
    "        beta_hat = beta / scale\n",
    "        beta_gibbs = ldpred2_gibbs_one_sampling(PM[i], beta_hat, N, M, para)\n",
    "        beta_gibbs_set.append(beta_gibbs * scale)\n",
    "    return beta_gibbs_set\n"
   ]
  }
 ],
 "metadata": {
  "kernelspec": {
   "display_name": "env_early",
   "language": "python",
   "name": "python3"
  },
  "language_info": {
   "codemirror_mode": {
    "name": "ipython",
    "version": 3
   },
   "file_extension": ".py",
   "mimetype": "text/x-python",
   "name": "python",
   "nbconvert_exporter": "python",
   "pygments_lexer": "ipython3",
   "version": "3.9.18"
  }
 },
 "nbformat": 4,
 "nbformat_minor": 2
}
