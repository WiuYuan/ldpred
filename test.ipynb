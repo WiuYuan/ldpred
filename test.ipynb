{
 "cells": [
  {
   "cell_type": "code",
   "execution_count": null,
   "metadata": {},
   "outputs": [],
   "source": []
  },
  {
   "cell_type": "code",
   "execution_count": 1,
   "metadata": {},
   "outputs": [
    {
     "name": "stderr",
     "output_type": "stream",
     "text": [
      "/Users/yuanwen/Desktop/Docker_Environment/intern/1/code/snp_read/Fliter.py:33: SparseEfficiencyWarning: splu converted its input to CSC format\n",
      "  splu(PM[i][\"precision\"]).solve(I_dense[:, rsid])[rsid]\n"
     ]
    },
    {
     "data": {
      "text/plain": [
       "0.04681458284927948"
      ]
     },
     "execution_count": 1,
     "metadata": {},
     "output_type": "execute_result"
    }
   ],
   "source": [
    "import LDpred as ld\n",
    "import numpy as np\n",
    "\n",
    "pwd = \"/Users/yuanwen/Desktop/Docker_Environment/intern/1\"\n",
    "precision_folder_path = pwd + \"/data/EUR\"\n",
    "snplist_folder_path = pwd + \"/data/snplists_GRCh38positions\"\n",
    "sumstats_path = pwd + \"/data/sumstats/public-data3-sumstats.txt\"\n",
    "vcf_path = pwd + \"/data/sumstats/public-data3_vcf.vcf\"\n",
    "fam_path = pwd + \"/data/sumstats/public-data3.fam\"\n",
    "\n",
    "PM = ld.Read.PM_read(precision_folder_path)\n",
    "snplist = ld.Read.snplist_read(snplist_folder_path)\n",
    "sumstats = ld.Read.sumstats_read(sumstats_path)\n",
    "ld.Fliter.filter_by_PM(PM, snplist)\n",
    "# ld.Fliter.PM_get_LD(PM)\n",
    "sumstats_set = ld.Fliter.fliter_by_sumstats(PM, snplist, sumstats)\n",
    "para = {\"h2\": 0.2966, \"p\": 0.018, \"burn_in\": 50, \"num_iter\": 100, \"N\": 15000}\n",
    "# sumstats_simu = ld.generate.generate_sumstats(snplist, para)\n",
    "beta_grid = ld.LDpred2.ldpred2_grid(PM, sumstats_set, para)\n",
    "\n",
    "vcfstats = ld.Read.vcf_read(vcf_path)\n",
    "famstats = ld.Read.fam_read(fam_path)\n",
    "phestats = ld.Fliter.merge_vcf_fam(vcfstats, famstats)\n",
    "phestats_total = ld.Fliter.fliter_by_vcf(beta_grid, snplist, phestats)\n",
    "beta_grid_total = ld.Fliter.merge_beta(beta_grid)\n",
    "\n",
    "ld.Fliter.fliter_by_REF_ALT(snplist, phestats_total)\n",
    "ld.predict.normalize(phestats_total)\n",
    "ld.predict.check_r_squared(phestats_total, beta_grid_total)\n",
    "\n"
   ]
  },
  {
   "cell_type": "code",
   "execution_count": 1,
   "metadata": {},
   "outputs": [
    {
     "name": "stderr",
     "output_type": "stream",
     "text": [
      "/Users/yuanwen/Desktop/Docker_Environment/intern/1/code/snp_read/Fliter.py:25: SparseEfficiencyWarning: splu converted its input to CSC format\n",
      "  PM[i][\"LD\"] = csr_matrix(splu(PM[i][\"precision\"]).solve(I_dense[:, rsid])[rsid])\n"
     ]
    },
    {
     "data": {
      "text/plain": [
       "0.010058688200979224"
      ]
     },
     "execution_count": 1,
     "metadata": {},
     "output_type": "execute_result"
    }
   ],
   "source": [
    "import LDpred as ld\n",
    "import numpy as np\n",
    "\n",
    "pwd = \"/Users/yuanwen/Desktop/Docker_Environment/intern/1\"\n",
    "precision_folder_path = pwd + \"/data/EUR\"\n",
    "snplist_folder_path = pwd + \"/data/snplists_GRCh38positions\"\n",
    "sumstats_path = pwd + \"/data/sumstats/public-data3-sumstats.txt\"\n",
    "vcf_path = pwd + \"/data/sumstats/public-data3_vcf.vcf\"\n",
    "fam_path = pwd + \"/data/sumstats/public-data3.fam\"\n",
    "\n",
    "PM = ld.Read.PM_read(precision_folder_path)\n",
    "snplist = ld.Read.snplist_read(snplist_folder_path)\n",
    "sumstats = ld.Read.sumstats_read(sumstats_path)\n",
    "ld.Fliter.filter_by_PM(PM, snplist)\n",
    "# ld.Fliter.PM_get_LD(PM)\n",
    "sumstats_set = ld.Fliter.fliter_by_sumstats(PM, snplist, sumstats)\n",
    "para = {\"h2\": 0.2966, \"p\": 0.018, \"burn_in\": 50, \"num_iter\": 100}\n",
    "beta_grid = ld.LDpred2.ldpred2_inf(PM, sumstats_set)\n",
    "\n",
    "vcfstats = ld.Read.vcf_read(vcf_path)\n",
    "famstats = ld.Read.fam_read(fam_path)\n",
    "phestats = ld.Fliter.merge_vcf_fam(vcfstats, famstats)\n",
    "phestats_total = ld.Fliter.fliter_by_vcf(beta_grid, snplist, phestats)\n",
    "beta_grid_total = ld.Fliter.merge_beta(beta_grid)\n",
    "\n",
    "ld.Fliter.fliter_by_REF_ALT(snplist, phestats_total)\n",
    "ld.predict.normalize(phestats_total)\n",
    "ld.predict.check_r_squared(phestats_total, beta_grid_total)"
   ]
  },
  {
   "cell_type": "code",
   "execution_count": 2,
   "metadata": {},
   "outputs": [
    {
     "data": {
      "text/plain": [
       "1.759150410291503e-05"
      ]
     },
     "execution_count": 2,
     "metadata": {},
     "output_type": "execute_result"
    }
   ],
   "source": [
    "# Test File\n",
    "\n",
    "import LDpred as ld\n",
    "import numpy as np\n",
    "\n",
    "# basic read and fliter\n",
    "pwd = \"/Users/yuanwen/Desktop/Docker_Environment/intern/1\"\n",
    "precision_folder_path = pwd+\"/data/EUR\"\n",
    "snplist_folder_path = pwd+\"/data/snplists_GRCh38positions\"\n",
    "sumstats_path = pwd+\"/data/sumstats/public-data3-sumstats.txt\"\n",
    "vcf_path = pwd+\"/data/sumstats/public-data3_vcf.vcf\"\n",
    "fam_path = pwd+\"/data/sumstats/public-data3.fam\"\n",
    "PM = ld.Read.PM_read(precision_folder_path)\n",
    "snplist = ld.Read.snplist_read(snplist_folder_path)\n",
    "sumstats = ld.Read.sumstats_read(sumstats_path)\n",
    "ld.Fliter.filter_by_PM(PM, snplist)\n",
    "sumstats_set = ld.Fliter.fliter_by_sumstats(PM, snplist, sumstats)\n",
    "vcfstats = ld.Read.vcf_read(vcf_path)\n",
    "famstats = ld.Read.fam_read(fam_path)\n",
    "phestats = ld.Fliter.merge_vcf_fam(vcfstats, famstats)\n",
    "\n",
    "# ldpred2-grid\n",
    "# ld.Fliter.PM_get_LD(PM)\n",
    "# para = {\"h2\": 0.2966, \"p\":0.018}\n",
    "# beta_grid = ld.LDpred2.ldpred2_grid(PM, sumstats_set, para)\n",
    "\n",
    "# phestats_total = ld.Fliter.fliter_by_vcf(beta_grid, snplist, phestats)\n",
    "# beta_grid_total = ld.Fliter.merge_beta(beta_grid)\n",
    "\n",
    "# ld.Fliter.fliter_by_REF_ALT(snplist, phestats_total)\n",
    "# ld.predict.normalize(phestats_total)\n",
    "# ld.predict.check_r_squared(phestats_total, beta_grid_total)\n",
    "\n",
    "# marginal\n",
    "beta_marginal = ld.LDpred2.get_marginal_beta(sumstats_set)\n",
    "\n",
    "phestats_total = ld.Fliter.fliter_by_vcf(beta_marginal, snplist, phestats)\n",
    "beta_grid_total = ld.Fliter.merge_beta(beta_marginal)\n",
    "beta_marginal_total = ld.Fliter.merge_beta(beta_marginal)\n",
    "\n",
    "ld.predict.normalize(phestats_total)\n",
    "ld.predict.check_r_squared(phestats_total, beta_marginal_total)"
   ]
  },
  {
   "cell_type": "code",
   "execution_count": 3,
   "metadata": {},
   "outputs": [
    {
     "name": "stdout",
     "output_type": "stream",
     "text": [
      "16812\n"
     ]
    }
   ],
   "source": [
    "import numpy as np\n",
    "def fliter_by_vcf(beta, snplist, phestats):\n",
    "    phestats_total = {}\n",
    "    rsid_total = []\n",
    "    rsid_phestats = {value: index for index, value in enumerate(phestats[\"rsid\"])}\n",
    "    for key in list(phestats.keys()):\n",
    "        if isinstance(phestats[key], list):\n",
    "            phestats_total[key] = []\n",
    "    s = 0\n",
    "    for i in range(len(snplist)):\n",
    "        rsid = [\n",
    "            index\n",
    "            for index, value in enumerate(snplist[i][\"site_ids\"])\n",
    "            if value in rsid_phestats\n",
    "        ]\n",
    "        for key in list(snplist[i].keys()):\n",
    "            if isinstance(snplist[i][key], list):\n",
    "                snplist[i][key] = np.array(snplist[i][key])[rsid].tolist()\n",
    "        # beta[i] = np.array(beta[i])[rsid].tolist()\n",
    "        rsid_snplist_block = {\n",
    "            value: index for index, value in enumerate(snplist[i][\"site_ids\"])\n",
    "        }\n",
    "        rsid = [\n",
    "            index\n",
    "            for index, value in enumerate(phestats[\"rsid\"])\n",
    "            if value in rsid_snplist_block\n",
    "        ]\n",
    "        rsid_total += rsid\n",
    "        for key in list(phestats.keys()):\n",
    "            if isinstance(phestats[key], list):\n",
    "                phestats_total[key].append(np.array(phestats[key])[rsid].tolist())\n",
    "        if len(beta[i]) != len(rsid):\n",
    "            print(\"A\")\n",
    "        s += len(beta[i])\n",
    "    print(s)\n",
    "    phestats_total[\"X\"] = phestats[\"X\"][:, rsid_total]\n",
    "    phestats_total[\"Phenotype\"] = phestats[\"Phenotype\"]\n",
    "    return phestats_total\n",
    "\n",
    "phestats_total = fliter_by_vcf(beta_grid, snplist, phestats)"
   ]
  },
  {
   "cell_type": "code",
   "execution_count": 12,
   "metadata": {},
   "outputs": [
    {
     "data": {
      "text/plain": [
       "[0.089,\n",
       " 0.089,\n",
       " 0.089,\n",
       " 0.089,\n",
       " 0.089,\n",
       " 0.089,\n",
       " 0.089,\n",
       " 0.089,\n",
       " 0.089,\n",
       " 0.089,\n",
       " 0.089,\n",
       " 0.089,\n",
       " 0.089,\n",
       " 0.089,\n",
       " 0.089,\n",
       " 0.089,\n",
       " 0.089,\n",
       " 0.089,\n",
       " 0.089,\n",
       " 0.089,\n",
       " 0.089,\n",
       " 0.2076,\n",
       " 0.2076,\n",
       " 0.2076,\n",
       " 0.2076,\n",
       " 0.2076,\n",
       " 0.2076,\n",
       " 0.2076,\n",
       " 0.2076,\n",
       " 0.2076,\n",
       " 0.2076,\n",
       " 0.2076,\n",
       " 0.2076,\n",
       " 0.2076,\n",
       " 0.2076,\n",
       " 0.2076,\n",
       " 0.2076,\n",
       " 0.2076,\n",
       " 0.2076,\n",
       " 0.2076,\n",
       " 0.2076,\n",
       " 0.2076,\n",
       " 0.2966,\n",
       " 0.2966,\n",
       " 0.2966,\n",
       " 0.2966,\n",
       " 0.2966,\n",
       " 0.2966,\n",
       " 0.2966,\n",
       " 0.2966,\n",
       " 0.2966,\n",
       " 0.2966,\n",
       " 0.2966,\n",
       " 0.2966,\n",
       " 0.2966,\n",
       " 0.2966,\n",
       " 0.2966,\n",
       " 0.2966,\n",
       " 0.2966,\n",
       " 0.2966,\n",
       " 0.2966,\n",
       " 0.2966,\n",
       " 0.2966,\n",
       " 0.4152,\n",
       " 0.4152,\n",
       " 0.4152,\n",
       " 0.4152,\n",
       " 0.4152,\n",
       " 0.4152,\n",
       " 0.4152,\n",
       " 0.4152,\n",
       " 0.4152,\n",
       " 0.4152,\n",
       " 0.4152,\n",
       " 0.4152,\n",
       " 0.4152,\n",
       " 0.4152,\n",
       " 0.4152,\n",
       " 0.4152,\n",
       " 0.4152,\n",
       " 0.4152,\n",
       " 0.4152,\n",
       " 0.4152,\n",
       " 0.4152]"
      ]
     },
     "execution_count": 12,
     "metadata": {},
     "output_type": "execute_result"
    }
   ],
   "source": [
    "h2 = [0.0890, 0.2076, 0.2966, 0.4152]\n",
    "p = np.logspace(-5, 0, num=21).tolist()\n",
    "h2h2 = [k for k in h2 for _ in p]\n",
    "pp = [k for _ in h2 for k in p]"
   ]
  },
  {
   "cell_type": "code",
   "execution_count": null,
   "metadata": {},
   "outputs": [],
   "source": [
    "def ldpred2_gibbs_one_sampling(PM, beta_hat, N, M, para):\n",
    "    LD = PM[\"LD\"]\n",
    "    # LD = inv(PM[\"precision\"])\n",
    "    if isinstance(LD[0], np.float64):\n",
    "        LD = csr_matrix([[LD[0]]])\n",
    "    m = len(beta_hat)\n",
    "    h2 = para[\"h2\"]\n",
    "    p = para[\"p\"]\n",
    "    curr_beta = np.zeros(m)\n",
    "    avg_beta = np.zeros(m)\n",
    "    dotprods = np.zeros(m)\n",
    "    h2_per_var = h2 / (M * p)\n",
    "    inv_odd_p = (1 - p) / p\n",
    "    for k in range(-para[\"burn_in\"], para[\"num_iter\"]):\n",
    "        for j in range(m):\n",
    "            res_beta_hat_j = beta_hat[j] - (dotprods[j] - curr_beta[j])\n",
    "            C1 = h2_per_var * N[j]\n",
    "            C2 = 1 / (1 + 1 / C1)\n",
    "            C3 = C2 * res_beta_hat_j\n",
    "            C4 = C2 / N[j]\n",
    "            post_p_j = 1 / (1 + inv_odd_p * np.sqrt(1 + C1) * np.exp(-C3 * C3 / C4 / 2))\n",
    "            diff = -curr_beta[j]\n",
    "            # if post_p_j < p:\n",
    "            #     curr_beta[j] = 0\n",
    "            if post_p_j > np.random.rand():\n",
    "                curr_beta[j] = np.random.normal(C3, np.sqrt(C4))\n",
    "                diff += curr_beta[j]\n",
    "            else:\n",
    "                curr_beta[j] = 0\n",
    "            if k >= 0:\n",
    "                avg_beta[j] += C3 * post_p_j\n",
    "        if diff != 0:\n",
    "            dotprods += LD[:, j].toarray().flatten() * diff\n",
    "    return avg_beta / para[\"num_iter\"]"
   ]
  }
 ],
 "metadata": {
  "kernelspec": {
   "display_name": "env_early",
   "language": "python",
   "name": "python3"
  },
  "language_info": {
   "codemirror_mode": {
    "name": "ipython",
    "version": 3
   },
   "file_extension": ".py",
   "mimetype": "text/x-python",
   "name": "python",
   "nbconvert_exporter": "python",
   "pygments_lexer": "ipython3",
   "version": "3.9.18"
  }
 },
 "nbformat": 4,
 "nbformat_minor": 2
}
